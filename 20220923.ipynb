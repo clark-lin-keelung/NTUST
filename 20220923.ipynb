{
  "nbformat": 4,
  "nbformat_minor": 0,
  "metadata": {
    "colab": {
      "provenance": [],
      "collapsed_sections": [],
      "authorship_tag": "ABX9TyMRbRjEkarQn1jroPnTXWn3",
      "include_colab_link": true
    },
    "kernelspec": {
      "name": "python3",
      "display_name": "Python 3"
    },
    "language_info": {
      "name": "python"
    }
  },
  "cells": [
    {
      "cell_type": "markdown",
      "metadata": {
        "id": "view-in-github",
        "colab_type": "text"
      },
      "source": [
        "<a href=\"https://colab.research.google.com/github/clark-lin-keelung/NTUST/blob/main/20220923.ipynb\" target=\"_parent\"><img src=\"https://colab.research.google.com/assets/colab-badge.svg\" alt=\"Open In Colab\"/></a>"
      ]
    },
    {
      "cell_type": "markdown",
      "source": [
        "## Python基本指令"
      ],
      "metadata": {
        "id": "Deh6oPhI3TeD"
      }
    },
    {
      "cell_type": "markdown",
      "source": [
        "### 第一個程式"
      ],
      "metadata": {
        "id": "iSKxsnVG3cpx"
      }
    },
    {
      "cell_type": "code",
      "execution_count": null,
      "metadata": {
        "colab": {
          "base_uri": "https://localhost:8080/"
        },
        "id": "okP-tKv3xwVH",
        "outputId": "522e8e15-5f43-4a90-aceb-e2e54aab920f"
      },
      "outputs": [
        {
          "output_type": "stream",
          "name": "stdout",
          "text": [
            "Hello World\n"
          ]
        }
      ],
      "source": [
        "print(\"Hello World\")"
      ]
    },
    {
      "cell_type": "code",
      "source": [
        "a = \"David's Dog\""
      ],
      "metadata": {
        "id": "K_qVTwMa3ow4"
      },
      "execution_count": null,
      "outputs": []
    },
    {
      "cell_type": "code",
      "source": [
        "a"
      ],
      "metadata": {
        "colab": {
          "base_uri": "https://localhost:8080/",
          "height": 35
        },
        "id": "qiEg22GX4AYw",
        "outputId": "34ff8d22-0e5e-49b6-ccb1-a6306b384f70"
      },
      "execution_count": null,
      "outputs": [
        {
          "output_type": "execute_result",
          "data": {
            "application/vnd.google.colaboratory.intrinsic+json": {
              "type": "string"
            },
            "text/plain": [
              "\"David's Dog\""
            ]
          },
          "metadata": {},
          "execution_count": 3
        }
      ]
    },
    {
      "cell_type": "code",
      "source": [
        "print(a)"
      ],
      "metadata": {
        "colab": {
          "base_uri": "https://localhost:8080/"
        },
        "id": "4j71AANy4Bew",
        "outputId": "1411f12a-dc01-4791-a61c-779ba3648c0e"
      },
      "execution_count": null,
      "outputs": [
        {
          "output_type": "stream",
          "name": "stdout",
          "text": [
            "David's Dog\n"
          ]
        }
      ]
    },
    {
      "cell_type": "code",
      "source": [
        "print(\"How are you?\\nI am fine!\")"
      ],
      "metadata": {
        "colab": {
          "base_uri": "https://localhost:8080/"
        },
        "id": "COnGW6Pn4E8Y",
        "outputId": "baefa0cb-7448-453d-c0f6-a90403c2ee8d"
      },
      "execution_count": null,
      "outputs": [
        {
          "output_type": "stream",
          "name": "stdout",
          "text": [
            "How are you?\n",
            "I am fine!\n"
          ]
        }
      ]
    },
    {
      "cell_type": "code",
      "source": [
        "print('1\\t3\\t5\\n2\\t4\\t6')"
      ],
      "metadata": {
        "colab": {
          "base_uri": "https://localhost:8080/"
        },
        "id": "7iTeeJaD4Sev",
        "outputId": "bdeeb676-fd5c-4aef-a383-53b6c07e37ea"
      },
      "execution_count": null,
      "outputs": [
        {
          "output_type": "stream",
          "name": "stdout",
          "text": [
            "1\t3\t5\n",
            "2\t4\t6\n"
          ]
        }
      ]
    },
    {
      "cell_type": "code",
      "source": [
        "s = \"Hello\"\n",
        "s[3]"
      ],
      "metadata": {
        "colab": {
          "base_uri": "https://localhost:8080/",
          "height": 35
        },
        "id": "kdmFim_R4eo4",
        "outputId": "d462f688-0e60-4195-e493-e38dba581968"
      },
      "execution_count": null,
      "outputs": [
        {
          "output_type": "execute_result",
          "data": {
            "application/vnd.google.colaboratory.intrinsic+json": {
              "type": "string"
            },
            "text/plain": [
              "'l'"
            ]
          },
          "metadata": {},
          "execution_count": 7
        }
      ]
    },
    {
      "cell_type": "code",
      "source": [
        "s[4]"
      ],
      "metadata": {
        "colab": {
          "base_uri": "https://localhost:8080/",
          "height": 35
        },
        "id": "ITJHUubN4n6I",
        "outputId": "0ed58481-16d1-4967-bee6-2c7f54b7d232"
      },
      "execution_count": null,
      "outputs": [
        {
          "output_type": "execute_result",
          "data": {
            "application/vnd.google.colaboratory.intrinsic+json": {
              "type": "string"
            },
            "text/plain": [
              "'o'"
            ]
          },
          "metadata": {},
          "execution_count": 8
        }
      ]
    },
    {
      "cell_type": "code",
      "source": [
        "a = \"NTU\""
      ],
      "metadata": {
        "id": "-7N3cxqU4qKQ"
      },
      "execution_count": null,
      "outputs": []
    },
    {
      "cell_type": "code",
      "source": [
        "b = \"ST\"\n",
        "a+b"
      ],
      "metadata": {
        "colab": {
          "base_uri": "https://localhost:8080/",
          "height": 35
        },
        "id": "KO-G3BRp4wIo",
        "outputId": "65c62f87-f1e0-484b-be5a-0a8a171a11df"
      },
      "execution_count": null,
      "outputs": [
        {
          "output_type": "execute_result",
          "data": {
            "application/vnd.google.colaboratory.intrinsic+json": {
              "type": "string"
            },
            "text/plain": [
              "'NTUST'"
            ]
          },
          "metadata": {},
          "execution_count": 10
        }
      ]
    },
    {
      "cell_type": "code",
      "source": [
        "len(s)"
      ],
      "metadata": {
        "colab": {
          "base_uri": "https://localhost:8080/"
        },
        "id": "OgoOeAtW40tX",
        "outputId": "f1612ea7-4742-460d-b320-54f86946583d"
      },
      "execution_count": null,
      "outputs": [
        {
          "output_type": "execute_result",
          "data": {
            "text/plain": [
              "5"
            ]
          },
          "metadata": {},
          "execution_count": 11
        }
      ]
    },
    {
      "cell_type": "code",
      "source": [
        "len(a)"
      ],
      "metadata": {
        "colab": {
          "base_uri": "https://localhost:8080/"
        },
        "id": "owvqBDwc46bg",
        "outputId": "4f77baf8-caa1-45f9-8939-9069c8410da5"
      },
      "execution_count": null,
      "outputs": [
        {
          "output_type": "execute_result",
          "data": {
            "text/plain": [
              "3"
            ]
          },
          "metadata": {},
          "execution_count": 12
        }
      ]
    },
    {
      "cell_type": "code",
      "source": [
        "score = input('請輸入你的英文成績:')\n",
        "name = input('請輸入你的大名:')\n",
        "print(f\"{name}你的英文成績是{score}\")"
      ],
      "metadata": {
        "colab": {
          "base_uri": "https://localhost:8080/"
        },
        "id": "4XPtdY4g490X",
        "outputId": "ad6b93f3-a133-4519-ee3d-08b5904b7189"
      },
      "execution_count": null,
      "outputs": [
        {
          "output_type": "stream",
          "name": "stdout",
          "text": [
            "請輸入你的英文成績:80\n",
            "請輸入你的大名:Tom\n",
            "Tom你的英文成績是80\n"
          ]
        }
      ]
    },
    {
      "cell_type": "markdown",
      "source": [
        "### 任務一：請輸入名字，計算名字字元數"
      ],
      "metadata": {
        "id": "pywscTHR6FXx"
      }
    },
    {
      "cell_type": "code",
      "source": [
        "name = input('請問你的大名?')\n",
        "print(f'你的名字有{len(name)}個字元')"
      ],
      "metadata": {
        "colab": {
          "base_uri": "https://localhost:8080/"
        },
        "id": "Cxr7DmJI5rBP",
        "outputId": "4da1b95c-1c4b-4569-d970-dcc78868380e"
      },
      "execution_count": null,
      "outputs": [
        {
          "output_type": "stream",
          "name": "stdout",
          "text": [
            "請問你的大名?Anderson\n",
            "你的名字有8個字元\n"
          ]
        }
      ]
    },
    {
      "cell_type": "markdown",
      "source": [
        "### 任務二：自動產生樂團名"
      ],
      "metadata": {
        "id": "ed_2I3tR7cwR"
      }
    },
    {
      "cell_type": "code",
      "source": [
        "print('歡迎使用樂團名產生器')\n",
        "city = input('請問你居住的城市:')\n",
        "pet = input('你最喜歡的寵物：').capitalize()\n",
        "print('建議樂團名為： '+city+pet)"
      ],
      "metadata": {
        "colab": {
          "base_uri": "https://localhost:8080/"
        },
        "id": "78uCvpYi6QJA",
        "outputId": "77f2b2bc-ec8a-41da-c5fc-66a333114b44"
      },
      "execution_count": null,
      "outputs": [
        {
          "output_type": "stream",
          "name": "stdout",
          "text": [
            "歡迎使用樂團名產生器\n",
            "請問你居住的城市:taipei\n",
            "你最喜歡的寵物：cat\n",
            "建議樂團名為： taipeiCat\n"
          ]
        }
      ]
    },
    {
      "cell_type": "code",
      "source": [],
      "metadata": {
        "id": "BMp4vSN18ezn"
      },
      "execution_count": null,
      "outputs": []
    }
  ]
}